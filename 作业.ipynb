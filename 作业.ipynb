{
 "cells": [
  {
   "cell_type": "markdown",
   "metadata": {},
   "source": [
    "房间内有100人，每人有100元，每分钟随机给另一个人1元，最后这个房间内的财富分布是怎么样的"
   ]
  },
  {
   "cell_type": "code",
   "execution_count": 7,
   "metadata": {},
   "outputs": [],
   "source": [
    "people={}\n",
    "for i in range(0,100):\n",
    "    people[i]=100\n",
    "def assign():   \n",
    "    for key in people.keys():\n",
    "         if people[key]<=0 :\n",
    "            continue\n",
    "            n=random.randint(0,99)\n",
    "            people[key]=people[key]-1\n",
    "            people[n]=people[n]+1"
   ]
  },
  {
   "cell_type": "code",
   "execution_count": 5,
   "metadata": {},
   "outputs": [
    {
     "ename": "IndentationError",
     "evalue": "unindent does not match any outer indentation level (<tokenize>, line 14)",
     "output_type": "error",
     "traceback": [
      "\u001b[1;36m  File \u001b[1;32m\"<tokenize>\"\u001b[1;36m, line \u001b[1;32m14\u001b[0m\n\u001b[1;33m    id_money_dict[id_get] += 1\u001b[0m\n\u001b[1;37m    ^\u001b[0m\n\u001b[1;31mIndentationError\u001b[0m\u001b[1;31m:\u001b[0m unindent does not match any outer indentation level\n"
     ]
    }
   ],
   "source": [
    "import matplotlib.pyplot as plt\n",
    "import pandas as pd\n",
    "import random\n",
    "person=100\n",
    "id_list = range(person)\n",
    "id_money_dict = {k: person for k in id_list}\n",
    "round_number = 17000\n",
    "for round in range(round_number):\n",
    "    for id in id_money_dict.keys():\n",
    "         id_money_dict[id] += -1\n",
    "         id_get = random.randint(0, person-1)\n",
    "             while id_get == id:\n",
    "                     id_get = random.randint(0, person - 1)\n",
    "            id_money_dict[id_get] += 1  \n",
    "se = pd.Series(id_money_dict)\n",
    "se.plot.bar()\n",
    "plt.show()\n",
    "plt.close()\n",
    "plt.show()\n",
    "plt.close()\n",
    "se.plot.hist(bins=100)\n",
    "plt.show()"
   ]
  },
  {
   "cell_type": "code",
   "execution_count": 6,
   "metadata": {},
   "outputs": [
    {
     "ename": "SyntaxError",
     "evalue": "invalid syntax (<ipython-input-6-6ea8c68e4339>, line 12)",
     "output_type": "error",
     "traceback": [
      "\u001b[1;36m  File \u001b[1;32m\"<ipython-input-6-6ea8c68e4339>\"\u001b[1;36m, line \u001b[1;32m12\u001b[0m\n\u001b[1;33m    get_recipient = function(player) {\u001b[0m\n\u001b[1;37m                                     ^\u001b[0m\n\u001b[1;31mSyntaxError\u001b[0m\u001b[1;31m:\u001b[0m invalid syntax\n"
     ]
    }
   ],
   "source": [
    "library(tidyverse)\n",
    "library(gganimate) \n",
    "NUMPLAYERS = 45\n",
    "ROUNDS = 5000\n",
    "INITWEALTH = 45\n",
    "#initialize the bank\n",
    "#columns wealths of the NUMPLAYERS players\n",
    "#rows show wealths of each of the ROUNDS ticks of the clocks\n",
    "bank = matrix(0, nrow = ROUNDS, ncol = NUMPLAYERS)\n",
    "bank[1,] =  c(rep(INITWEALTH, NUMPLAYERS)) \n",
    "#function to give a dollar to someone other than oneself\n",
    "get_recipient = function(player) {\n",
    "    sample(setdiff(1:NUMPLAYERS, player), 1)} \n",
    "#execute trades and update the ledger \n",
    "for (i in 2:ROUNDS) {  \n",
    "    #every player with wealth chooses another person to receive a buck  \n",
    "    recipients = sapply(which(bank[i - 1,] > 0), get_recipient)   \n",
    "    #table of the dollars owed each person  \n",
    "    count_table = table(recipients)    \n",
    "    #get the indices of the people owed money  \n",
    "    indices = as.integer(names(count_table))    \n",
    "    #everyone gives up a dollar, unless they are at zero  \n",
    "    bank[i,] = ifelse(bank[i - 1,] > 0, bank[i - 1,] - 1, bank[i - 1,])\n",
    "    #selected people receive dollars  \n",
    "    bank[i, indices] = bank[i, indices] + count_table\n",
    "} \n",
    "####################Animate it\n",
    "#Make a suitable long data frame\n",
    "df = as.data.frame(bank)\n",
    "names(df) = 1:NUMPLAYERS\n",
    "df = df %>%  \n",
    "   mutate(frame = 1:ROUNDS) %>%  \n",
    "    gather(person, wealth, 1:NUMPLAYERS) %>%  \n",
    "    mutate(person = as.numeric(person)) %>%  \n",
    "    arrange(frame) %>%  \n",
    "    group_by(frame) %>%  \n",
    "    mutate(rank = rank(wealth, ties.method = \"random\")) %>%  \n",
    "    ungroup() %>%  \n",
    "    gather(histtype,playerid,c(person,rank)) %>%  \n",
    "    mutate(histtype = sprintf(\"Ordered by %s\", histtype)) \n",
    "p <- ggplot(df, aes(x = playerid, y = wealth, frame = frame, fill=histtype)) +  \n",
    "  theme_minimal() +  \n",
    "    theme(panel.grid.major.x = element_blank(),        \n",
    "          panel.grid.minor = element_blank()) +  \n",
    "    geom_rect(aes( xmin = playerid - .4, xmax = playerid +.4, ymin = 0, ymax = wealth)) +  \n",
    "    scale_x_continuous(breaks = 1:NUMPLAYERS) +  \n",
    "    coord_cartesian(xlim = c(0, NUMPLAYERS), y = c(0, 5 * INITWEALTH)) +  \n",
    "    theme(axis.text.x = element_text(angle = 90, hjust = 1)) +  \n",
    "    labs(x='players',y='dollars') +  \n",
    "    facet_wrap( ~ histtype,ncol=1) +  \n",
    "    theme(legend.position = \"none\")\n",
    "    p \n",
    "    #set options for the animation package. Need ImageMagick installed on your computer\n",
    "    animation::ani.options(nmax = ROUNDS,                       \n",
    "                           convert = 'C:\\\\Program Files\\\\ImageMagick-7.0.6-Q16')\n",
    "#save the movie\n",
    "gganimate(p, \"dollar_stacked.mp4\", interval = .01)"
   ]
  },
  {
   "cell_type": "code",
   "execution_count": null,
   "metadata": {},
   "outputs": [],
   "source": [
    "ren={}\n",
    "for i in range(0,100):\n",
    "    ren[i]=100"
   ]
  }
 ],
 "metadata": {
  "kernelspec": {
   "display_name": "Python 3",
   "language": "python",
   "name": "python3"
  },
  "language_info": {
   "codemirror_mode": {
    "name": "ipython",
    "version": 3
   },
   "file_extension": ".py",
   "mimetype": "text/x-python",
   "name": "python",
   "nbconvert_exporter": "python",
   "pygments_lexer": "ipython3",
   "version": "3.7.3"
  }
 },
 "nbformat": 4,
 "nbformat_minor": 2
}
